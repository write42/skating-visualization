{
 "cells": [
  {
   "cell_type": "code",
   "execution_count": 1,
   "metadata": {},
   "outputs": [],
   "source": [
    "import pandas as pd"
   ]
  },
  {
   "cell_type": "code",
   "execution_count": 3,
   "metadata": {},
   "outputs": [],
   "source": [
    "scores_df = pd.read_csv('https://raw.githubusercontent.com/BuzzFeedNews/figure-skating-scores/master/data/tidy/judge-scores.csv')"
   ]
  },
  {
   "cell_type": "code",
   "execution_count": 4,
   "metadata": {},
   "outputs": [],
   "source": [
    "aspects_df = pd.read_csv('https://raw.githubusercontent.com/BuzzFeedNews/figure-skating-scores/master/data/tidy/judged-aspects.csv')"
   ]
  },
  {
   "cell_type": "code",
   "execution_count": 5,
   "metadata": {},
   "outputs": [
    {
     "data": {
      "text/html": [
       "<div>\n",
       "<style scoped>\n",
       "    .dataframe tbody tr th:only-of-type {\n",
       "        vertical-align: middle;\n",
       "    }\n",
       "\n",
       "    .dataframe tbody tr th {\n",
       "        vertical-align: top;\n",
       "    }\n",
       "\n",
       "    .dataframe thead th {\n",
       "        text-align: right;\n",
       "    }\n",
       "</style>\n",
       "<table border=\"1\" class=\"dataframe\">\n",
       "  <thead>\n",
       "    <tr style=\"text-align: right;\">\n",
       "      <th></th>\n",
       "      <th>aspect_id</th>\n",
       "      <th>judge</th>\n",
       "      <th>score</th>\n",
       "    </tr>\n",
       "  </thead>\n",
       "  <tbody>\n",
       "    <tr>\n",
       "      <th>0</th>\n",
       "      <td>00034b9414</td>\n",
       "      <td>J1</td>\n",
       "      <td>9.00</td>\n",
       "    </tr>\n",
       "    <tr>\n",
       "      <th>1</th>\n",
       "      <td>00034b9414</td>\n",
       "      <td>J2</td>\n",
       "      <td>9.00</td>\n",
       "    </tr>\n",
       "    <tr>\n",
       "      <th>2</th>\n",
       "      <td>00034b9414</td>\n",
       "      <td>J3</td>\n",
       "      <td>8.75</td>\n",
       "    </tr>\n",
       "    <tr>\n",
       "      <th>3</th>\n",
       "      <td>00034b9414</td>\n",
       "      <td>J4</td>\n",
       "      <td>9.25</td>\n",
       "    </tr>\n",
       "    <tr>\n",
       "      <th>4</th>\n",
       "      <td>00034b9414</td>\n",
       "      <td>J5</td>\n",
       "      <td>9.00</td>\n",
       "    </tr>\n",
       "  </tbody>\n",
       "</table>\n",
       "</div>"
      ],
      "text/plain": [
       "    aspect_id judge  score\n",
       "0  00034b9414    J1   9.00\n",
       "1  00034b9414    J2   9.00\n",
       "2  00034b9414    J3   8.75\n",
       "3  00034b9414    J4   9.25\n",
       "4  00034b9414    J5   9.00"
      ]
     },
     "execution_count": 5,
     "metadata": {},
     "output_type": "execute_result"
    }
   ],
   "source": [
    "scores_df.head()"
   ]
  },
  {
   "cell_type": "code",
   "execution_count": 6,
   "metadata": {},
   "outputs": [
    {
     "data": {
      "text/html": [
       "<div>\n",
       "<style scoped>\n",
       "    .dataframe tbody tr th:only-of-type {\n",
       "        vertical-align: middle;\n",
       "    }\n",
       "\n",
       "    .dataframe tbody tr th {\n",
       "        vertical-align: top;\n",
       "    }\n",
       "\n",
       "    .dataframe thead th {\n",
       "        text-align: right;\n",
       "    }\n",
       "</style>\n",
       "<table border=\"1\" class=\"dataframe\">\n",
       "  <thead>\n",
       "    <tr style=\"text-align: right;\">\n",
       "      <th></th>\n",
       "      <th>aspect_id</th>\n",
       "      <th>performance_id</th>\n",
       "      <th>section</th>\n",
       "      <th>aspect_num</th>\n",
       "      <th>aspect_desc</th>\n",
       "      <th>info_flag</th>\n",
       "      <th>credit_flag</th>\n",
       "      <th>base_value</th>\n",
       "      <th>factor</th>\n",
       "      <th>goe</th>\n",
       "      <th>ref</th>\n",
       "      <th>scores_of_panel</th>\n",
       "    </tr>\n",
       "  </thead>\n",
       "  <tbody>\n",
       "    <tr>\n",
       "      <th>0</th>\n",
       "      <td>00034b9414</td>\n",
       "      <td>b639d77459</td>\n",
       "      <td>components</td>\n",
       "      <td>NaN</td>\n",
       "      <td>Transitions</td>\n",
       "      <td>NaN</td>\n",
       "      <td>NaN</td>\n",
       "      <td>NaN</td>\n",
       "      <td>0.8</td>\n",
       "      <td>NaN</td>\n",
       "      <td>NaN</td>\n",
       "      <td>9.07</td>\n",
       "    </tr>\n",
       "    <tr>\n",
       "      <th>1</th>\n",
       "      <td>0004dd08d6</td>\n",
       "      <td>9589bb2ebf</td>\n",
       "      <td>components</td>\n",
       "      <td>NaN</td>\n",
       "      <td>Transitions</td>\n",
       "      <td>NaN</td>\n",
       "      <td>NaN</td>\n",
       "      <td>NaN</td>\n",
       "      <td>0.8</td>\n",
       "      <td>NaN</td>\n",
       "      <td>NaN</td>\n",
       "      <td>6.64</td>\n",
       "    </tr>\n",
       "    <tr>\n",
       "      <th>2</th>\n",
       "      <td>000b8b5070</td>\n",
       "      <td>71d2b1b597</td>\n",
       "      <td>components</td>\n",
       "      <td>NaN</td>\n",
       "      <td>Performance</td>\n",
       "      <td>NaN</td>\n",
       "      <td>NaN</td>\n",
       "      <td>NaN</td>\n",
       "      <td>1.0</td>\n",
       "      <td>NaN</td>\n",
       "      <td>NaN</td>\n",
       "      <td>7.68</td>\n",
       "    </tr>\n",
       "    <tr>\n",
       "      <th>3</th>\n",
       "      <td>000cec97c9</td>\n",
       "      <td>41a2345881</td>\n",
       "      <td>components</td>\n",
       "      <td>NaN</td>\n",
       "      <td>Transitions</td>\n",
       "      <td>NaN</td>\n",
       "      <td>NaN</td>\n",
       "      <td>NaN</td>\n",
       "      <td>0.8</td>\n",
       "      <td>NaN</td>\n",
       "      <td>NaN</td>\n",
       "      <td>4.71</td>\n",
       "    </tr>\n",
       "    <tr>\n",
       "      <th>4</th>\n",
       "      <td>000df5399a</td>\n",
       "      <td>b017147b2f</td>\n",
       "      <td>elements</td>\n",
       "      <td>1.0</td>\n",
       "      <td>3Tw2</td>\n",
       "      <td>NaN</td>\n",
       "      <td>NaN</td>\n",
       "      <td>5.8</td>\n",
       "      <td>NaN</td>\n",
       "      <td>-0.2</td>\n",
       "      <td>NaN</td>\n",
       "      <td>5.60</td>\n",
       "    </tr>\n",
       "  </tbody>\n",
       "</table>\n",
       "</div>"
      ],
      "text/plain": [
       "    aspect_id performance_id     section  aspect_num  aspect_desc info_flag  \\\n",
       "0  00034b9414     b639d77459  components         NaN  Transitions       NaN   \n",
       "1  0004dd08d6     9589bb2ebf  components         NaN  Transitions       NaN   \n",
       "2  000b8b5070     71d2b1b597  components         NaN  Performance       NaN   \n",
       "3  000cec97c9     41a2345881  components         NaN  Transitions       NaN   \n",
       "4  000df5399a     b017147b2f    elements         1.0         3Tw2       NaN   \n",
       "\n",
       "  credit_flag  base_value  factor  goe  ref  scores_of_panel  \n",
       "0         NaN         NaN     0.8  NaN  NaN             9.07  \n",
       "1         NaN         NaN     0.8  NaN  NaN             6.64  \n",
       "2         NaN         NaN     1.0  NaN  NaN             7.68  \n",
       "3         NaN         NaN     0.8  NaN  NaN             4.71  \n",
       "4         NaN         5.8     NaN -0.2  NaN             5.60  "
      ]
     },
     "execution_count": 6,
     "metadata": {},
     "output_type": "execute_result"
    }
   ],
   "source": [
    "aspects_df.head()"
   ]
  },
  {
   "cell_type": "code",
   "execution_count": null,
   "metadata": {},
   "outputs": [],
   "source": [
    "#aspects_df_drop = aspects_df.dropna()"
   ]
  },
  {
   "cell_type": "code",
   "execution_count": null,
   "metadata": {},
   "outputs": [],
   "source": [
    "#aspects_df_drop.head()"
   ]
  },
  {
   "cell_type": "code",
   "execution_count": null,
   "metadata": {},
   "outputs": [],
   "source": [
    "aspects_df_merge = aspects_df.merge(scores_df, how = 'left')"
   ]
  },
  {
   "cell_type": "code",
   "execution_count": null,
   "metadata": {},
   "outputs": [],
   "source": []
  },
  {
   "cell_type": "code",
   "execution_count": null,
   "metadata": {},
   "outputs": [],
   "source": []
  }
 ],
 "metadata": {
  "kernelspec": {
   "display_name": "Python 3",
   "language": "python",
   "name": "python3"
  },
  "language_info": {
   "codemirror_mode": {
    "name": "ipython",
    "version": 3
   },
   "file_extension": ".py",
   "mimetype": "text/x-python",
   "name": "python",
   "nbconvert_exporter": "python",
   "pygments_lexer": "ipython3",
   "version": "3.8.5"
  }
 },
 "nbformat": 4,
 "nbformat_minor": 4
}
